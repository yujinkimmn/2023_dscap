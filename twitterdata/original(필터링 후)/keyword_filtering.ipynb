{
  "cells": [
    {
      "cell_type": "code",
      "execution_count": 1,
      "metadata": {
        "id": "t0blpX-fJGOX"
      },
      "outputs": [],
      "source": [
        "import pandas as pd"
      ]
    },
    {
      "cell_type": "code",
      "execution_count": 6,
      "metadata": {
        "colab": {
          "base_uri": "https://localhost:8080/"
        },
        "id": "Il3H2dGIJZl6",
        "outputId": "130c5ed5-63b9-4ece-8929-d630fcd64c9d"
      },
      "outputs": [
        {
          "name": "stdout",
          "output_type": "stream",
          "text": [
            "메스암페타민_final.csv  아편_final.csv  \u001b[0m\u001b[01;34msample_data\u001b[0m/  허브.csv  허브.numbers\n"
          ]
        }
      ],
      "source": [
        "ls"
      ]
    },
    {
      "attachments": {},
      "cell_type": "markdown",
      "metadata": {
        "id": "QQF7DRPyPghT"
      },
      "source": [
        "## 필터링 대상\n",
        "- 허브티\n",
        "- 블렌딩\n",
        "- 화분\n",
        "- 쿠팡\n",
        "- 닉네임이 허브인 경우\n"
      ]
    },
    {
      "cell_type": "code",
      "execution_count": 107,
      "metadata": {
        "id": "iOLUsC-wJRqo"
      },
      "outputs": [],
      "source": [
        "허브 = pd.read_csv('허브.csv')"
      ]
    },
    {
      "cell_type": "code",
      "execution_count": 108,
      "metadata": {
        "id": "ynpDjdzYP14U"
      },
      "outputs": [],
      "source": [
        "# 허브티 포함하는 행  삭제\n",
        "허브 = 허브[~허브['content'].str.contains('허브티')]\n",
        "허브 = 허브[~허브['content'].str.contains('블렌딩')]\n",
        "허브 = 허브[~허브['content'].str.contains('허브향')]\n",
        "허브 = 허브[~허브['content'].str.contains('쿠팡')]\n",
        "허브 = 허브[~허브['content'].str.contains('화분')]\n",
        "허브 = 허브[~허브['content'].str.contains('지허브')]"
      ]
    },
    {
      "cell_type": "code",
      "execution_count": 109,
      "metadata": {
        "id": "hcMst6LhQqaY"
      },
      "outputs": [],
      "source": [
        "허브.reset_index(drop=True, inplace=True)"
      ]
    },
    {
      "cell_type": "code",
      "execution_count": 110,
      "metadata": {
        "id": "Clf8e2eKRKjJ"
      },
      "outputs": [],
      "source": [
        "# 닉네임에 허브가 포함되어 있지만 마약 게시물 아닌 경우\n",
        "허브_displayname = 허브[허브[\"user.displayname\"].str.contains(\"허브\", na=False)]\n",
        "허브_notrelated = 허브_displayname[허브_displayname['content'].str.contains('액상', na = False) == False]\n",
        "허브_notrelated = 허브_notrelated[허브_notrelated['content'].str.contains('텔레', na = False) == False]\n",
        "허브_notrelated = 허브_notrelated[허브_notrelated['content'].str.contains('브액', na = False) == False]\n",
        "허브_notrelated = 허브_notrelated[허브_notrelated['content'].str.contains('대마', na = False) == False]\n",
        "허브_notrelated = 허브_notrelated[허브_notrelated['content'].str.contains('물뽕', na = False) == False]"
      ]
    },
    {
      "cell_type": "code",
      "execution_count": 111,
      "metadata": {
        "id": "edPqDTl5YRiN"
      },
      "outputs": [],
      "source": [
        "# 삭제\n",
        "허브.drop(허브_notrelated.index, axis=0, inplace=True)"
      ]
    },
    {
      "cell_type": "code",
      "execution_count": 112,
      "metadata": {
        "id": "NCLw6gTOZDrt"
      },
      "outputs": [],
      "source": [
        "허브.to_csv('허브_final.csv', index = False)"
      ]
    },
    {
      "attachments": {},
      "cell_type": "markdown",
      "metadata": {
        "id": "BKlaEq9igJbv"
      },
      "source": [
        "## 2차 필터링\n",
        "- 데스와\n",
        "- usb\n",
        "- 냄새\n",
        "- 최저가\n",
        "- 질문상자\n",
        "- 포트\n",
        "- nft\n",
        "- 메타버스\n",
        "- 택배\n",
        "- 물류\n",
        "- 맥북\n",
        "- 최애\n",
        "- nct\n",
        "- 재료\n",
        "- 올영\n",
        "- 인덕"
      ]
    },
    {
      "cell_type": "code",
      "execution_count": 116,
      "metadata": {
        "id": "zxbN4F9uhHxu"
      },
      "outputs": [],
      "source": [
        "허브 = pd.read_csv('허브_final (1) 2.csv')"
      ]
    },
    {
      "cell_type": "code",
      "execution_count": 117,
      "metadata": {
        "id": "gNBjpMGIhPrt"
      },
      "outputs": [],
      "source": [
        "허브 = 허브[~허브['content'].str.contains('데스와')]\n",
        "허브 = 허브[~허브['content'].str.contains('usb')]\n",
        "허브 = 허브[~허브['content'].str.contains('인덕')]\n",
        "허브 = 허브[~허브['content'].str.contains('올영')]\n",
        "허브 = 허브[~허브['content'].str.contains('재료')]\n",
        "허브 = 허브[~허브['content'].str.contains('nct')]\n",
        "허브 = 허브[~허브['content'].str.contains('데스와')]\n",
        "허브 = 허브[~허브['content'].str.contains('최애')]\n",
        "허브 = 허브[~허브['content'].str.contains('맥북')]\n",
        "허브 = 허브[~허브['content'].str.contains('물류')]\n",
        "허브 = 허브[~허브['content'].str.contains('택배')]\n",
        "허브 = 허브[~허브['content'].str.contains('메타버스')]\n",
        "허브 = 허브[~허브['content'].str.contains('nft')]\n",
        "허브 = 허브[~허브['content'].str.contains('포트')]\n",
        "허브 = 허브[~허브['content'].str.contains('질문상자')]\n",
        "허브 = 허브[~허브['content'].str.contains('최저가')]\n",
        "허브 = 허브[~허브['content'].str.contains('냄새')]\n",
        "허브 = 허브[~허브['content'].str.contains('향기')]"
      ]
    },
    {
      "cell_type": "code",
      "execution_count": 118,
      "metadata": {
        "id": "llOU677LhuiB"
      },
      "outputs": [],
      "source": [
        "허브.reset_index(drop=True, inplace=True)"
      ]
    },
    {
      "cell_type": "code",
      "execution_count": null,
      "metadata": {
        "id": "q49tpHfiiQkm"
      },
      "outputs": [],
      "source": []
    }
  ],
  "metadata": {
    "colab": {
      "provenance": []
    },
    "kernelspec": {
      "display_name": "Python 3",
      "name": "python3"
    },
    "language_info": {
      "name": "python"
    }
  },
  "nbformat": 4,
  "nbformat_minor": 0
}
